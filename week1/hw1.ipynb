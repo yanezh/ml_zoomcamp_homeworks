{
 "cells": [
  {
   "cell_type": "code",
   "execution_count": 1,
   "id": "30822193",
   "metadata": {},
   "outputs": [],
   "source": [
    "import pandas as pd\n",
    "import seaborn as sns\n",
    "from sklearn.feature_extraction import DictVectorizer\n",
    "from sklearn.linear_model import LinearRegression\n",
    "from sklearn.metrics import mean_squared_error"
   ]
  },
  {
   "cell_type": "code",
   "execution_count": 2,
   "id": "f6c60ee0",
   "metadata": {},
   "outputs": [],
   "source": [
    "answers = []\n",
    "def question_answer(question_number, answer):\n",
    "    answer_str = f\"Question {question_number}: {answer}\"\n",
    "    answers.append(answer_str)\n",
    "    print (answer_str)"
   ]
  },
  {
   "cell_type": "code",
   "execution_count": 3,
   "id": "2b59c3ce",
   "metadata": {},
   "outputs": [],
   "source": [
    "january_trips_pd = pd.read_parquet(\"data/fhv_tripdata_2021-01.parquet\")"
   ]
  },
  {
   "cell_type": "code",
   "execution_count": 4,
   "id": "17fd35b1",
   "metadata": {},
   "outputs": [
    {
     "name": "stdout",
     "output_type": "stream",
     "text": [
      "Question 1: 1154112\n"
     ]
    }
   ],
   "source": [
    "question_answer(1, len(january_trips_pd))"
   ]
  },
  {
   "cell_type": "code",
   "execution_count": 5,
   "id": "735e6fb1",
   "metadata": {},
   "outputs": [],
   "source": [
    "january_trips_pd['duration'] = january_trips_pd['dropOff_datetime']-january_trips_pd['pickup_datetime']\n",
    "january_trips_pd['duration'] = january_trips_pd['duration'].apply(lambda x: x.total_seconds()/60)"
   ]
  },
  {
   "cell_type": "code",
   "execution_count": 6,
   "id": "a0d2ca75",
   "metadata": {},
   "outputs": [
    {
     "name": "stdout",
     "output_type": "stream",
     "text": [
      "Question 2: 19.167224093791006\n"
     ]
    }
   ],
   "source": [
    "question_answer(2, january_trips_pd['duration'].mean())"
   ]
  },
  {
   "cell_type": "code",
   "execution_count": 7,
   "id": "f60228df",
   "metadata": {},
   "outputs": [
    {
     "data": {
      "text/plain": [
       "0           17.000000\n",
       "1           17.000000\n",
       "2          110.000000\n",
       "3            8.283333\n",
       "4           15.216667\n",
       "              ...    \n",
       "1154107      8.750000\n",
       "1154108     57.600000\n",
       "1154109     16.200000\n",
       "1154110     19.433333\n",
       "1154111     36.000000\n",
       "Name: duration, Length: 1154112, dtype: float64"
      ]
     },
     "execution_count": 7,
     "metadata": {},
     "output_type": "execute_result"
    }
   ],
   "source": [
    "january_trips_pd['duration']"
   ]
  },
  {
   "cell_type": "code",
   "execution_count": 8,
   "id": "11240e98",
   "metadata": {},
   "outputs": [],
   "source": [
    "january_trips_pd = january_trips_pd[(january_trips_pd.duration>=1)&(january_trips_pd.duration<=60)]"
   ]
  },
  {
   "cell_type": "code",
   "execution_count": 9,
   "id": "c74933d8",
   "metadata": {},
   "outputs": [
    {
     "data": {
      "text/plain": [
       "1109826"
      ]
     },
     "execution_count": 9,
     "metadata": {},
     "output_type": "execute_result"
    }
   ],
   "source": [
    "len(january_trips_pd)"
   ]
  },
  {
   "cell_type": "code",
   "execution_count": 10,
   "id": "944755d2",
   "metadata": {},
   "outputs": [
    {
     "data": {
      "text/plain": [
       "<seaborn.axisgrid.FacetGrid at 0x1d804393610>"
      ]
     },
     "execution_count": 10,
     "metadata": {},
     "output_type": "execute_result"
    },
    {
     "data": {
      "image/png": "[encoded data removed]",
      "text/plain": [
       "<Figure size 360x360 with 1 Axes>"
      ]
     },
     "metadata": {
      "needs_background": "light"
     },
     "output_type": "display_data"
    }
   ],
   "source": [
    "sns.displot(january_trips_pd.duration)"
   ]
  },
  {
   "cell_type": "code",
   "execution_count": 11,
   "id": "347832e1",
   "metadata": {},
   "outputs": [],
   "source": [
    "train_features = ['PUlocationID', 'DOlocationID']"
   ]
  },
  {
   "cell_type": "code",
   "execution_count": 12,
   "id": "65169166",
   "metadata": {},
   "outputs": [],
   "source": [
    "for feature in train_features:\n",
    "    january_trips_pd[feature].fillna(-1, inplace=True)\n",
    "    january_trips_pd[feature]=january_trips_pd[feature].astype(str)"
   ]
  },
  {
   "cell_type": "code",
   "execution_count": 13,
   "id": "62fc1969",
   "metadata": {},
   "outputs": [
    {
     "name": "stdout",
     "output_type": "stream",
     "text": [
      "Question 3: 0.8352732770722617\n"
     ]
    }
   ],
   "source": [
    "question_answer(3, (january_trips_pd['PUlocationID']=='-1.0').mean())"
   ]
  },
  {
   "cell_type": "code",
   "execution_count": 14,
   "id": "814a44da",
   "metadata": {},
   "outputs": [],
   "source": [
    "train_dicts = january_trips_pd[train_features].to_dict(orient='records')\n",
    "vectorizer = DictVectorizer()\n",
    "dv = vectorizer.fit_transform(train_dicts)"
   ]
  },
  {
   "cell_type": "code",
   "execution_count": 15,
   "id": "4d84e796",
   "metadata": {},
   "outputs": [
    {
     "name": "stdout",
     "output_type": "stream",
     "text": [
      "Question 4: 525\n"
     ]
    }
   ],
   "source": [
    "question_answer(4, dv.shape[1])"
   ]
  },
  {
   "cell_type": "code",
   "execution_count": 16,
   "id": "8e9b43ba",
   "metadata": {},
   "outputs": [
    {
     "data": {
      "text/plain": [
       "LinearRegression()"
      ]
     },
     "execution_count": 16,
     "metadata": {},
     "output_type": "execute_result"
    }
   ],
   "source": [
    "model=LinearRegression()\n",
    "model.fit(dv, january_trips_pd.duration)"
   ]
  },
  {
   "cell_type": "code",
   "execution_count": 17,
   "id": "a7327595",
   "metadata": {},
   "outputs": [
    {
     "name": "stdout",
     "output_type": "stream",
     "text": [
      "Question 5: 10.528519107211306\n"
     ]
    }
   ],
   "source": [
    "rmse_train = mean_squared_error(january_trips_pd.duration, model.predict(dv), squared=False)\n",
    "question_answer(5, rmse_train)"
   ]
  },
  {
   "cell_type": "code",
   "execution_count": 18,
   "id": "af744810",
   "metadata": {},
   "outputs": [],
   "source": [
    "february_trips_pd = pd.read_parquet(\"data/fhv_tripdata_2021-02.parquet\")\n",
    "february_trips_pd['duration'] = february_trips_pd['dropOff_datetime']-february_trips_pd['pickup_datetime']\n",
    "february_trips_pd['duration'] = february_trips_pd['duration'].apply(lambda x: x.total_seconds()/60)\n",
    "february_trips_pd = february_trips_pd[(february_trips_pd.duration>=1)&(february_trips_pd.duration<=60)]\n",
    "for feature in train_features:\n",
    "    february_trips_pd[feature].fillna(-1, inplace=True)\n",
    "    february_trips_pd[feature]=february_trips_pd[feature].astype(str)\n",
    "val_dicts = february_trips_pd[train_features].to_dict(orient='records')\n",
    "dv_val = vectorizer.transform(val_dicts)"
   ]
  },
  {
   "cell_type": "code",
   "execution_count": 19,
   "id": "686539a3",
   "metadata": {},
   "outputs": [
    {
     "name": "stdout",
     "output_type": "stream",
     "text": [
      "Question 6: 11.01428319227392\n"
     ]
    }
   ],
   "source": [
    "rmse_val = mean_squared_error(february_trips_pd.duration, model.predict(dv_val), squared=False)\n",
    "question_answer(6, rmse_val)"
   ]
  },
  {
   "cell_type": "code",
   "execution_count": 20,
   "id": "6aca4b26",
   "metadata": {},
   "outputs": [
    {
     "name": "stdout",
     "output_type": "stream",
     "text": [
      "Question 1: 1154112\n",
      "Question 2: 19.167224093791006\n",
      "Question 3: 0.8352732770722617\n",
      "Question 4: 525\n",
      "Question 5: 10.528519107211306\n",
      "Question 6: 11.01428319227392\n"
     ]
    }
   ],
   "source": [
    "for answers in answers:\n",
    "    print(answers)"
   ]
  },
  {
   "cell_type": "code",
   "execution_count": null,
   "id": "29281b7b",
   "metadata": {},
   "outputs": [],
   "source": []
  }
 ],
 "metadata": {
  "kernelspec": {
   "display_name": "Python 3 (ipykernel)",
   "language": "python",
   "name": "python3"
  },
  "language_info": {
   "codemirror_mode": {
    "name": "ipython",
    "version": 3
   },
   "file_extension": ".py",
   "mimetype": "text/x-python",
   "name": "python",
   "nbconvert_exporter": "python",
   "pygments_lexer": "ipython3",
   "version": "3.10.0"
  }
 },
 "nbformat": 4,
 "nbformat_minor": 5
}
