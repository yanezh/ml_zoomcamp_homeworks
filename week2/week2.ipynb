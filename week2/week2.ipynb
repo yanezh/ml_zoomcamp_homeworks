{
 "cells": [
  {
   "cell_type": "code",
   "execution_count": 1,
   "id": "f978e8ec",
   "metadata": {},
   "outputs": [],
   "source": [
    "import os\n",
    "import mlflow"
   ]
  },
  {
   "cell_type": "code",
   "execution_count": 2,
   "id": "9ea4d23f",
   "metadata": {},
   "outputs": [],
   "source": [
    "answers = []\n",
    "def question_answer(question_number, answer):\n",
    "    answer_str = f\"Question {question_number}: {answer}\"\n",
    "    answers.append(answer_str)\n",
    "    print (answer_str)"
   ]
  },
  {
   "cell_type": "code",
   "execution_count": 3,
   "id": "8662f1c5",
   "metadata": {},
   "outputs": [
    {
     "name": "stdout",
     "output_type": "stream",
     "text": [
      "mlflow, version 1.26.0\n"
     ]
    }
   ],
   "source": [
    "!mlflow --version"
   ]
  },
  {
   "cell_type": "code",
   "execution_count": 4,
   "id": "c6ca343b",
   "metadata": {},
   "outputs": [
    {
     "name": "stdout",
     "output_type": "stream",
     "text": [
      "Question 1: 1.26.0\n"
     ]
    }
   ],
   "source": [
    "question_answer(1, \"1.26.0\")"
   ]
  },
  {
   "cell_type": "code",
   "execution_count": 5,
   "id": "06a0fcd4",
   "metadata": {},
   "outputs": [],
   "source": [
    "!python hw_scripts/preprocess_data.py --raw_data_path ./data/ --dest_path ./data_preprocessed"
   ]
  },
  {
   "cell_type": "code",
   "execution_count": 6,
   "id": "37844d16",
   "metadata": {},
   "outputs": [
    {
     "name": "stdout",
     "output_type": "stream",
     "text": [
      "Question 2: 4\n"
     ]
    }
   ],
   "source": [
    "question_answer(2, len(os.listdir('data_preprocessed')))"
   ]
  },
  {
   "cell_type": "code",
   "execution_count": 7,
   "id": "c14e84d0",
   "metadata": {},
   "outputs": [
    {
     "name": "stderr",
     "output_type": "stream",
     "text": [
      "2022/05/30 13:36:03 INFO mlflow.tracking.fluent: Autologging successfully enabled for sklearn.\n",
      "2022/05/30 13:36:03 INFO mlflow.tracking.fluent: Autologging successfully enabled for pyspark.\n",
      "2022/05/30 13:36:03 INFO mlflow.pyspark.ml: No SparkSession detected. Autologging will log pyspark.ml models contained in the default allowlist. To specify a custom allowlist, initialize a SparkSession prior to calling mlflow.pyspark.ml.autolog() and specify the path to your allowlist file via the spark.mlflow.pysparkml.autolog.logModelAllowlistFile conf.\n",
      "2022/05/30 13:36:03 INFO mlflow.tracking.fluent: Autologging successfully enabled for pyspark.ml.\n"
     ]
    }
   ],
   "source": [
    "!python hw_scripts/train.py --data_path ./data_preprocessed"
   ]
  },
  {
   "cell_type": "code",
   "execution_count": 8,
   "id": "cc1949cd",
   "metadata": {},
   "outputs": [
    {
     "name": "stdout",
     "output_type": "stream",
     "text": [
      "Question 3: 17\n"
     ]
    }
   ],
   "source": [
    "question_answer(3, 17)"
   ]
  },
  {
   "cell_type": "code",
   "execution_count": 9,
   "id": "fc40151e",
   "metadata": {},
   "outputs": [
    {
     "name": "stdout",
     "output_type": "stream",
     "text": [
      "Question 4: default-artifact-root\n"
     ]
    }
   ],
   "source": [
    "question_answer(4, 'default-artifact-root')"
   ]
  },
  {
   "cell_type": "code",
   "execution_count": 10,
   "id": "12bf765c",
   "metadata": {},
   "outputs": [
    {
     "name": "stderr",
     "output_type": "stream",
     "text": [
      "2022/05/30 13:36:27 INFO mlflow.tracking.fluent: Experiment with name 'random-forest-hyperopt' does not exist. Creating a new experiment.\n"
     ]
    },
    {
     "name": "stdout",
     "output_type": "stream",
     "text": [
      "\n",
      "  0%|          | 0/50 [00:00<?, ?trial/s, best loss=?]\n",
      "  2%|2         | 1/50 [00:12<10:28, 12.83s/trial, best loss: 6.658956269343007]\n",
      "  4%|4         | 2/50 [00:13<04:28,  5.59s/trial, best loss: 6.658956269343007]\n",
      "  6%|6         | 3/50 [00:14<02:37,  3.36s/trial, best loss: 6.658956269343007]\n",
      "  8%|8         | 4/50 [00:22<04:13,  5.51s/trial, best loss: 6.651438559376775]\n",
      " 10%|#         | 5/50 [00:27<03:52,  5.17s/trial, best loss: 6.651438559376775]\n",
      " 12%|#2        | 6/50 [00:41<06:01,  8.22s/trial, best loss: 6.651438559376775]\n",
      " 14%|#4        | 7/50 [00:54<07:00,  9.77s/trial, best loss: 6.651438559376775]\n",
      " 16%|#6        | 8/50 [00:56<05:04,  7.25s/trial, best loss: 6.651438559376775]\n",
      " 18%|#8        | 9/50 [01:04<05:04,  7.43s/trial, best loss: 6.651438559376775]\n",
      " 20%|##        | 10/50 [01:11<04:51,  7.30s/trial, best loss: 6.651438559376775]\n",
      " 22%|##2       | 11/50 [01:16<04:20,  6.69s/trial, best loss: 6.642137287429206]\n",
      " 24%|##4       | 12/50 [01:20<03:44,  5.90s/trial, best loss: 6.642137287429206]\n",
      " 26%|##6       | 13/50 [01:22<02:49,  4.57s/trial, best loss: 6.642137287429206]\n",
      " 28%|##8       | 14/50 [01:28<02:59,  4.99s/trial, best loss: 6.642137287429206]\n",
      " 30%|###       | 15/50 [01:35<03:18,  5.67s/trial, best loss: 6.642137287429206]\n",
      " 32%|###2      | 16/50 [01:40<03:03,  5.41s/trial, best loss: 6.642137287429206]\n",
      " 34%|###4      | 17/50 [01:49<03:33,  6.47s/trial, best loss: 6.642137287429206]\n",
      " 36%|###6      | 18/50 [02:09<05:40, 10.63s/trial, best loss: 6.629728007710133]\n",
      " 38%|###8      | 19/50 [02:14<04:38,  8.97s/trial, best loss: 6.629728007710133]\n",
      " 40%|####      | 20/50 [02:17<03:31,  7.06s/trial, best loss: 6.629728007710133]\n",
      " 42%|####2     | 21/50 [02:53<07:42, 15.94s/trial, best loss: 6.629728007710133]\n",
      " 44%|####4     | 22/50 [03:14<08:06, 17.39s/trial, best loss: 6.629728007710133]\n",
      " 46%|####6     | 23/50 [03:43<09:25, 20.93s/trial, best loss: 6.629728007710133]\n",
      " 48%|####8     | 24/50 [04:00<08:34, 19.80s/trial, best loss: 6.629728007710133]\n",
      " 50%|#####     | 25/50 [04:15<07:33, 18.13s/trial, best loss: 6.629728007710133]\n",
      " 52%|#####2    | 26/50 [04:28<06:42, 16.79s/trial, best loss: 6.629728007710133]\n",
      " 54%|#####4    | 27/50 [04:35<05:15, 13.72s/trial, best loss: 6.629728007710133]\n",
      " 56%|#####6    | 28/50 [04:52<05:22, 14.64s/trial, best loss: 6.629728007710133]\n",
      " 58%|#####8    | 29/50 [04:56<04:01, 11.49s/trial, best loss: 6.629728007710133]\n",
      " 60%|######    | 30/50 [05:10<04:03, 12.19s/trial, best loss: 6.629728007710133]\n",
      " 62%|######2   | 31/50 [05:10<02:45,  8.70s/trial, best loss: 6.629728007710133]\n",
      " 64%|######4   | 32/50 [05:20<02:40,  8.93s/trial, best loss: 6.629728007710133]\n",
      " 66%|######6   | 33/50 [05:37<03:17, 11.60s/trial, best loss: 6.629728007710133]\n",
      " 68%|######8   | 34/50 [05:55<03:34, 13.44s/trial, best loss: 6.6284257482044735]\n",
      " 70%|#######   | 35/50 [06:03<02:54, 11.62s/trial, best loss: 6.6284257482044735]\n",
      " 72%|#######2  | 36/50 [06:10<02:25, 10.37s/trial, best loss: 6.6284257482044735]\n",
      " 74%|#######4  | 37/50 [06:10<01:35,  7.33s/trial, best loss: 6.6284257482044735]\n",
      " 76%|#######6  | 38/50 [06:19<01:33,  7.79s/trial, best loss: 6.6284257482044735]\n",
      " 78%|#######8  | 39/50 [06:31<01:39,  9.07s/trial, best loss: 6.6284257482044735]\n",
      " 80%|########  | 40/50 [06:42<01:37,  9.74s/trial, best loss: 6.6284257482044735]\n",
      " 82%|########2 | 41/50 [06:44<01:06,  7.37s/trial, best loss: 6.6284257482044735]\n",
      " 84%|########4 | 42/50 [06:49<00:52,  6.56s/trial, best loss: 6.6284257482044735]\n",
      " 86%|########6 | 43/50 [06:56<00:47,  6.75s/trial, best loss: 6.6284257482044735]\n",
      " 88%|########8 | 44/50 [07:07<00:47,  7.84s/trial, best loss: 6.6284257482044735]\n",
      " 90%|######### | 45/50 [07:11<00:34,  6.80s/trial, best loss: 6.6284257482044735]\n",
      " 92%|#########2| 46/50 [07:12<00:20,  5.11s/trial, best loss: 6.6284257482044735]\n",
      " 94%|#########3| 47/50 [07:20<00:17,  5.82s/trial, best loss: 6.6284257482044735]\n",
      " 96%|#########6| 48/50 [07:23<00:10,  5.09s/trial, best loss: 6.6284257482044735]\n",
      " 98%|#########8| 49/50 [07:30<00:05,  5.65s/trial, best loss: 6.6284257482044735]\n",
      "100%|##########| 50/50 [07:40<00:00,  6.83s/trial, best loss: 6.6284257482044735]\n",
      "100%|##########| 50/50 [07:40<00:00,  9.20s/trial, best loss: 6.6284257482044735]\n"
     ]
    }
   ],
   "source": [
    "!python hw_scripts/hpo.py --data_path ./data_preprocessed"
   ]
  },
  {
   "cell_type": "code",
   "execution_count": 11,
   "id": "dd53359d",
   "metadata": {},
   "outputs": [
    {
     "name": "stdout",
     "output_type": "stream",
     "text": [
      "Question 5: 6.628\n"
     ]
    }
   ],
   "source": [
    "question_answer(5, 6.628)"
   ]
  },
  {
   "cell_type": "code",
   "execution_count": 12,
   "id": "f40700f7",
   "metadata": {},
   "outputs": [
    {
     "name": "stderr",
     "output_type": "stream",
     "text": [
      "2022/05/30 13:44:12 INFO mlflow.tracking.fluent: Experiment with name 'random-forest-best-models' does not exist. Creating a new experiment.\n",
      "Successfully registered model 'best-model-rmse'.\n",
      "2022/05/30 13:45:56 INFO mlflow.tracking._model_registry.client: Waiting up to 300 seconds for model version to finish creation.                     Model name: best-model-rmse, version 1\n",
      "Created version '1' of model 'best-model-rmse'.\n"
     ]
    }
   ],
   "source": [
    "!python hw_scripts/register_model.py --data_path ./data_preprocessed"
   ]
  },
  {
   "cell_type": "code",
   "execution_count": 13,
   "id": "fd70301b",
   "metadata": {},
   "outputs": [
    {
     "name": "stdout",
     "output_type": "stream",
     "text": [
      "Question 6: 6.55\n"
     ]
    }
   ],
   "source": [
    "question_answer(6, 6.55)"
   ]
  },
  {
   "cell_type": "code",
   "execution_count": 14,
   "id": "a70520ad",
   "metadata": {},
   "outputs": [
    {
     "name": "stdout",
     "output_type": "stream",
     "text": [
      "Question 1: 1.26.0\n",
      "Question 2: 4\n",
      "Question 3: 17\n",
      "Question 4: default-artifact-root\n",
      "Question 5: 6.628\n",
      "Question 6: 6.55\n"
     ]
    }
   ],
   "source": [
    "for answers in answers:\n",
    "    print(answers)"
   ]
  },
  {
   "cell_type": "code",
   "execution_count": null,
   "id": "c135bca3",
   "metadata": {},
   "outputs": [],
   "source": []
  }
 ],
 "metadata": {
  "kernelspec": {
   "display_name": "Python 3 (ipykernel)",
   "language": "python",
   "name": "python3"
  },
  "language_info": {
   "codemirror_mode": {
    "name": "ipython",
    "version": 3
   },
   "file_extension": ".py",
   "mimetype": "text/x-python",
   "name": "python",
   "nbconvert_exporter": "python",
   "pygments_lexer": "ipython3",
   "version": "3.10.0"
  }
 },
 "nbformat": 4,
 "nbformat_minor": 5
}
